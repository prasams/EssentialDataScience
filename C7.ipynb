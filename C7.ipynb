{
 "cells": [
  {
   "cell_type": "markdown",
   "metadata": {},
   "source": [
    "# R notebook for Data Ingestion and Review"
   ]
  },
  {
   "cell_type": "code",
   "execution_count": null,
   "metadata": {},
   "outputs": [],
   "source": [
    "# Load required packages from local library into R.\n",
    "\n",
    "library(rattle)    # comcat()\n",
    "library(readr)     # Efficient reading of CSV data.\n",
    "library(magrittr)  # Pipe operator %>% %<>% %T>% equals().\n",
    "library(dplyr)     # Wrangling: print(), glimpse()."
   ]
  },
  {
   "cell_type": "code",
   "execution_count": null,
   "metadata": {
    "collapsed": true
   },
   "outputs": [],
   "source": [
    "# Identify the source location of the dataset.\n",
    "\n",
    "dspath <- \"http://rattle.togaware.com/weatherAUS.csv\""
   ]
  },
  {
   "cell_type": "code",
   "execution_count": null,
   "metadata": {},
   "outputs": [],
   "source": [
    "# Ingest the dataset using the 'read_csv' function for csv format dataset\n",
    "\n",
    "weatherAUS <- read_csv(file=dspath)"
   ]
  },
  {
   "cell_type": "code",
   "execution_count": null,
   "metadata": {
    "collapsed": true
   },
   "outputs": [],
   "source": [
    "# Name the dataset.\n",
    "\n",
    "dsname <- \"weatherAUS\""
   ]
  },
  {
   "cell_type": "code",
   "execution_count": null,
   "metadata": {
    "collapsed": true
   },
   "outputs": [],
   "source": [
    "# Prepare the dataset for usage with our template.\n",
    "\n",
    "ds <- get(dsname)"
   ]
  },
  {
   "cell_type": "code",
   "execution_count": null,
   "metadata": {},
   "outputs": [],
   "source": [
    "# Basic size information. comcat() used to format numbers with commas. Try removing '%>% comcat()' to see the raw, unformatted output\n",
    "dim(ds) %>% comcat()\n",
    "\n",
    "nrow(ds) %>% comcat()\n",
    "\n",
    "ncol(ds) %>% comcat()"
   ]
  },
  {
   "cell_type": "code",
   "execution_count": null,
   "metadata": {},
   "outputs": [],
   "source": [
    "# A quick view of the contents of the dataset.\n",
    "\n",
    "glimpse(ds)"
   ]
  },
  {
   "cell_type": "code",
   "execution_count": null,
   "metadata": {},
   "outputs": [],
   "source": [
    "# Review the first few observations.\n",
    "\n",
    "head(ds) %>% print.data.frame()"
   ]
  },
  {
   "cell_type": "code",
   "execution_count": null,
   "metadata": {},
   "outputs": [],
   "source": [
    "# Review the last few observations.\n",
    "\n",
    "tail(ds) %>% print.data.frame()"
   ]
  },
  {
   "cell_type": "code",
   "execution_count": null,
   "metadata": {},
   "outputs": [],
   "source": [
    "# Review a random sample of observations.\n",
    "\n",
    "set.seed(4)\n",
    "sample_n(ds, size=6)"
   ]
  },
  {
   "cell_type": "code",
   "execution_count": null,
   "metadata": {},
   "outputs": [],
   "source": [
    "# Traditional dataset summary\n",
    "\n",
    "summary(ds)"
   ]
  },
  {
   "cell_type": "code",
   "execution_count": null,
   "metadata": {
    "collapsed": true
   },
   "outputs": [],
   "source": [
    "# Use the above code template to ingest and review the dataset located at \n",
    "# https://essentials.togaware.com/ferry.csv and use the output to answer the following quiz"
   ]
  }
 ],
 "metadata": {
  "kernelspec": {
   "display_name": "R",
   "language": "R",
   "name": "ir"
  },
  "language_info": {
   "codemirror_mode": "r",
   "file_extension": ".r",
   "mimetype": "text/x-r-source",
   "name": "R",
   "pygments_lexer": "r",
   "version": "3.4.2"
  }
 },
 "nbformat": 4,
 "nbformat_minor": 2
}
